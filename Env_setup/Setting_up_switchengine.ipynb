{
 "cells": [
  {
   "cell_type": "code",
   "execution_count": 1,
   "metadata": {},
   "outputs": [],
   "source": [
    "import sys"
   ]
  },
  {
   "cell_type": "code",
   "execution_count": 10,
   "metadata": {},
   "outputs": [],
   "source": [
    "!sudo mkdir -p /srv/data/"
   ]
  },
  {
   "cell_type": "code",
   "execution_count": 16,
   "metadata": {},
   "outputs": [
    {
     "name": "stdout",
     "output_type": "stream",
     "text": [
      "/srv/data/my_shared_data_folder\n"
     ]
    }
   ],
   "source": [
    "cd /srv/data/"
   ]
  },
  {
   "cell_type": "code",
   "execution_count": 14,
   "metadata": {},
   "outputs": [
    {
     "name": "stdout",
     "output_type": "stream",
     "text": [
      "\u001b[33mThe directory '/home/jupyter-guillaume/.cache/pip/http' or its parent directory is not owned by the current user and the cache has been disabled. Please check the permissions and owner of that directory. If executing pip with sudo, you may want sudo's -H flag.\u001b[0m\n",
      "\u001b[33mThe directory '/home/jupyter-guillaume/.cache/pip' or its parent directory is not owned by the current user and caching wheels has been disabled. check the permissions and owner of that directory. If executing pip with sudo, you may want sudo's -H flag.\u001b[0m\n",
      "Collecting gdown\n",
      "Collecting tqdm (from gdown)\n",
      "\u001b[?25l  Downloading https://files.pythonhosted.org/packages/d1/f9/8cbd36ef8bf84c5281e4943eaa12fe34850a0e8204e44872d8ca0c0ec741/tqdm-4.29.0-py2.py3-none-any.whl (46kB)\n",
      "\u001b[K    100% |████████████████████████████████| 51kB 1.8MB/s ta 0:00:011\n",
      "\u001b[?25hRequirement already satisfied: requests in /opt/tljh/user/lib/python3.6/site-packages (from gdown) (2.18.4)\n",
      "Requirement already satisfied: six in /opt/tljh/user/lib/python3.6/site-packages (from gdown) (1.11.0)\n",
      "Requirement already satisfied: chardet<3.1.0,>=3.0.2 in /opt/tljh/user/lib/python3.6/site-packages (from requests->gdown) (3.0.4)\n",
      "Requirement already satisfied: idna<2.7,>=2.5 in /opt/tljh/user/lib/python3.6/site-packages (from requests->gdown) (2.6)\n",
      "Requirement already satisfied: urllib3<1.23,>=1.21.1 in /opt/tljh/user/lib/python3.6/site-packages (from requests->gdown) (1.22)\n",
      "Requirement already satisfied: certifi>=2017.4.17 in /opt/tljh/user/lib/python3.6/site-packages (from requests->gdown) (2018.10.15)\n",
      "Installing collected packages: tqdm, gdown\n",
      "Successfully installed gdown-3.6.4 tqdm-4.29.0\n",
      "\u001b[33mYou are using pip version 10.0.1, however version 18.1 is available.\n",
      "You should consider upgrading via the 'pip install --upgrade pip' command.\u001b[0m\n"
     ]
    }
   ],
   "source": [
    "!sudo pip install gdown"
   ]
  },
  {
   "cell_type": "code",
   "execution_count": 15,
   "metadata": {},
   "outputs": [],
   "source": [
    "import gdown"
   ]
  },
  {
   "cell_type": "code",
   "execution_count": 20,
   "metadata": {},
   "outputs": [
    {
     "name": "stderr",
     "output_type": "stream",
     "text": [
      "Downloading...\n",
      "From: https://drive.google.com/uc?id=13UafeUl0hSmGO4JptzI-9F-PA39QJlX7\n",
      "To: /home/jupyter-guillaume/Data.zip\n",
      "699MB [00:10, 65.3MB/s] \n"
     ]
    },
    {
     "data": {
      "text/plain": [
       "'/home/jupyter-guillaume/Data.zip'"
      ]
     },
     "execution_count": 20,
     "metadata": {},
     "output_type": "execute_result"
    }
   ],
   "source": [
    "gdown.download('https://drive.google.com/uc?id=13UafeUl0hSmGO4JptzI-9F-PA39QJlX7',\n",
    "               '/home/jupyter-guillaume/Data.zip', quiet=False)"
   ]
  },
  {
   "cell_type": "code",
   "execution_count": 22,
   "metadata": {},
   "outputs": [],
   "source": [
    "!sudo mv '/home/jupyter-guillaume/Data.zip' '/srv/data/'"
   ]
  },
  {
   "cell_type": "code",
   "execution_count": 26,
   "metadata": {},
   "outputs": [
    {
     "name": "stdout",
     "output_type": "stream",
     "text": [
      "Reading package lists... Done\n",
      "Building dependency tree       \n",
      "Reading state information... Done\n",
      "Suggested packages:\n",
      "  zip\n",
      "The following NEW packages will be installed:\n",
      "  unzip\n",
      "0 upgraded, 1 newly installed, 0 to remove and 67 not upgraded.\n",
      "Need to get 167 kB of archives.\n",
      "After this operation, 558 kB of additional disk space will be used.\n",
      "Get:1 http://ch.archive.ubuntu.com/ubuntu bionic/main amd64 unzip amd64 6.0-21ubuntu1 [167 kB]\n",
      "Fetched 167 kB in 0s (2833 kB/s)33m\n",
      "\n",
      "\u001b7\u001b[0;23r\u001b8\u001b[1ASelecting previously unselected package unzip.\n",
      "(Reading database ... 51127 files and directories currently installed.)\n",
      "Preparing to unpack .../unzip_6.0-21ubuntu1_amd64.deb ...\n",
      "\u001b7\u001b[24;0f\u001b[42m\u001b[30mProgress: [  0%]\u001b[49m\u001b[39m [..........................................................] \u001b8\u001b7\u001b[24;0f\u001b[42m\u001b[30mProgress: [ 17%]\u001b[49m\u001b[39m [#########.................................................] \u001b8Unpacking unzip (6.0-21ubuntu1) ...\n",
      "\u001b7\u001b[24;0f\u001b[42m\u001b[30mProgress: [ 33%]\u001b[49m\u001b[39m [###################.......................................] \u001b8\u001b7\u001b[24;0f\u001b[42m\u001b[30mProgress: [ 50%]\u001b[49m\u001b[39m [#############################.............................] \u001b8Processing triggers for mime-support (3.60ubuntu1) ...\n",
      "Setting up unzip (6.0-21ubuntu1) ...\n",
      "\u001b7\u001b[24;0f\u001b[42m\u001b[30mProgress: [ 67%]\u001b[49m\u001b[39m [######################################....................] \u001b8\u001b7\u001b[24;0f\u001b[42m\u001b[30mProgress: [ 83%]\u001b[49m\u001b[39m [################################################..........] \u001b8Processing triggers for man-db (2.8.3-2ubuntu0.1) ...\n",
      "\n",
      "\u001b7\u001b[0;24r\u001b8\u001b[1A\u001b[J"
     ]
    }
   ],
   "source": [
    "!sudo apt install unzip"
   ]
  },
  {
   "cell_type": "code",
   "execution_count": 29,
   "metadata": {},
   "outputs": [
    {
     "name": "stdout",
     "output_type": "stream",
     "text": [
      "Archive:  Data.zip\n",
      "   creating: Data/\n",
      "  inflating: Data/Klee.jpg           \n",
      "   creating: __MACOSX/\n",
      "   creating: __MACOSX/Data/\n",
      "  inflating: __MACOSX/Data/._Klee.jpg  \n",
      "   creating: Data/BBBC034_v1_dataset/\n",
      "  inflating: Data/BBBC034_v1_dataset/edge_C=3_EGFP.tif  \n",
      "   creating: __MACOSX/Data/BBBC034_v1_dataset/\n",
      "  inflating: __MACOSX/Data/BBBC034_v1_dataset/._edge_C=3_EGFP.tif  \n",
      " extracting: Data/BBBC034_v1_dataset/Icon  \n",
      "  inflating: __MACOSX/Data/BBBC034_v1_dataset/._Icon  \n",
      "  inflating: Data/BBBC034_v1_dataset/AICS-12_134_C=3.tif  \n",
      "  inflating: __MACOSX/Data/BBBC034_v1_dataset/._AICS-12_134_C=3.tif  \n",
      "  inflating: Data/BBBC034_v1_dataset/colony_center_C=3_EGFP.tif  \n",
      "  inflating: __MACOSX/Data/BBBC034_v1_dataset/._colony_center_C=3_EGFP.tif  \n",
      "  inflating: Data/BBBC034_v1_dataset/edge_C=1_DeepRed.tif  \n",
      "  inflating: __MACOSX/Data/BBBC034_v1_dataset/._edge_C=1_DeepRed.tif  \n",
      "  inflating: Data/BBBC034_v1_dataset/colony_center_C=5_Hoechst.tif  \n",
      "  inflating: __MACOSX/Data/BBBC034_v1_dataset/._colony_center_C=5_Hoechst.tif  \n",
      "  inflating: Data/BBBC034_v1_dataset/AICS_12_134_C=2.tif  \n",
      "  inflating: __MACOSX/Data/BBBC034_v1_dataset/._AICS_12_134_C=2.tif  \n",
      "  inflating: Data/BBBC034_v1_dataset/AICS_12_134_C=1.tif  \n",
      "  inflating: __MACOSX/Data/BBBC034_v1_dataset/._AICS_12_134_C=1.tif  \n",
      "  inflating: Data/BBBC034_v1_dataset/AICS_12_134_C=0.tif  \n",
      "  inflating: __MACOSX/Data/BBBC034_v1_dataset/._AICS_12_134_C=0.tif  \n",
      "  inflating: Data/BBBC034_v1_dataset/edge_C=5_Hoechst.tif  \n",
      "  inflating: __MACOSX/Data/BBBC034_v1_dataset/._edge_C=5_Hoechst.tif  \n",
      "  inflating: Data/BBBC034_v1_dataset/colony_center_C=1_DeepRed.tif  \n",
      "  inflating: __MACOSX/Data/BBBC034_v1_dataset/._colony_center_C=1_DeepRed.tif  \n",
      "  inflating: __MACOSX/Data/._BBBC034_v1_dataset  \n",
      "  inflating: Data/.DS_Store          \n",
      "  inflating: __MACOSX/Data/._.DS_Store  \n",
      " extracting: Data/Icon               \n",
      "  inflating: __MACOSX/Data/._Icon    \n",
      "   creating: Data/30567/\n",
      " extracting: Data/30567/Icon         \n",
      "   creating: __MACOSX/Data/30567/\n",
      "  inflating: __MACOSX/Data/30567/._Icon  \n",
      "  inflating: Data/30567/30567_orig.tiff  \n",
      "  inflating: __MACOSX/Data/30567/._30567_orig.tiff  \n",
      "  inflating: __MACOSX/Data/._30567   \n",
      "   creating: Data/A9/\n",
      "  inflating: Data/A9/A9 p10d.tif     \n",
      "   creating: __MACOSX/Data/A9/\n",
      "  inflating: __MACOSX/Data/A9/._A9 p10d.tif  \n",
      " extracting: Data/A9/Icon            \n",
      "  inflating: __MACOSX/Data/A9/._Icon  \n",
      "  inflating: Data/A9/A9 p10f.tif     \n",
      "  inflating: __MACOSX/Data/A9/._A9 p10f.tif  \n",
      "  inflating: Data/A9/A9 p7d.tif      \n",
      "  inflating: __MACOSX/Data/A9/._A9 p7d.tif  \n",
      "  inflating: Data/A9/A9 p7f.tif      \n",
      "  inflating: __MACOSX/Data/A9/._A9 p7f.tif  \n",
      "  inflating: Data/A9/A9 p9f.tif      \n",
      "  inflating: __MACOSX/Data/A9/._A9 p9f.tif  \n",
      "  inflating: Data/A9/A9 p5d.tif      \n",
      "  inflating: __MACOSX/Data/A9/._A9 p5d.tif  \n",
      "  inflating: Data/A9/A9 p5f.tif      \n",
      "  inflating: __MACOSX/Data/A9/._A9 p5f.tif  \n",
      "  inflating: Data/A9/A9 p9d.tif      \n",
      "  inflating: __MACOSX/Data/A9/._A9 p9d.tif  \n",
      "  inflating: __MACOSX/Data/._A9      \n",
      "   creating: Data/.ipynb_checkpoints/\n",
      " extracting: Data/.ipynb_checkpoints/Icon  \n",
      "   creating: __MACOSX/Data/.ipynb_checkpoints/\n",
      "  inflating: __MACOSX/Data/.ipynb_checkpoints/._Icon  \n",
      "  inflating: __MACOSX/Data/._.ipynb_checkpoints  \n",
      "  inflating: __MACOSX/._Data         \n"
     ]
    }
   ],
   "source": [
    "!sudo unzip Data.zip"
   ]
  },
  {
   "cell_type": "code",
   "execution_count": 32,
   "metadata": {},
   "outputs": [],
   "source": [
    "!sudo rm Data.zip"
   ]
  },
  {
   "cell_type": "code",
   "execution_count": 34,
   "metadata": {},
   "outputs": [],
   "source": [
    "!sudo rm -r __MACOSX"
   ]
  },
  {
   "cell_type": "code",
   "execution_count": 60,
   "metadata": {},
   "outputs": [
    {
     "name": "stdout",
     "output_type": "stream",
     "text": [
      "/etc/skel\n"
     ]
    }
   ],
   "source": [
    "cd /etc/skel"
   ]
  },
  {
   "cell_type": "code",
   "execution_count": 61,
   "metadata": {},
   "outputs": [],
   "source": [
    "!sudo ln -s /srv/data/Data Data\n"
   ]
  }
 ],
 "metadata": {
  "kernelspec": {
   "display_name": "Python 3",
   "language": "python",
   "name": "python3"
  },
  "language_info": {
   "codemirror_mode": {
    "name": "ipython",
    "version": 3
   },
   "file_extension": ".py",
   "mimetype": "text/x-python",
   "name": "python",
   "nbconvert_exporter": "python",
   "pygments_lexer": "ipython3",
   "version": "3.6.7"
  }
 },
 "nbformat": 4,
 "nbformat_minor": 2
}

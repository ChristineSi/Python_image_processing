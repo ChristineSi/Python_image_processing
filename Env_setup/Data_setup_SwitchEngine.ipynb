{
 "cells": [
  {
   "cell_type": "code",
   "execution_count": 1,
   "metadata": {},
   "outputs": [],
   "source": [
    "import sys, os, zipfile\n",
    "import urllib.request"
   ]
  },
  {
   "cell_type": "code",
   "execution_count": 3,
   "metadata": {},
   "outputs": [
    {
     "data": {
      "text/plain": [
       "'/Users/gw18g940/Google Drive/BernMIC/ImageProcessingLecture/Python_image_processing/Env_setup'"
      ]
     },
     "execution_count": 3,
     "metadata": {},
     "output_type": "execute_result"
    }
   ],
   "source": [
    "pwd"
   ]
  },
  {
   "cell_type": "code",
   "execution_count": null,
   "metadata": {},
   "outputs": [],
   "source": [
    "#if you want to specify a particular location for file, give it here:\n",
    "#where_to_save = '/Users/gw18g940/Desktop/ImageProcessingLectureData/'\n",
    "\n",
    "#regular case\n",
    "where_to_save = '../../Data/'\n",
    "\n",
    "#create data directory\n",
    "if not os.path.exists(where_to_save):\n",
    "    os.makedirs(where_to_save)"
   ]
  },
  {
   "cell_type": "code",
   "execution_count": 6,
   "metadata": {},
   "outputs": [
    {
     "data": {
      "text/plain": [
       "('../../Data/Klee.jpg', <http.client.HTTPMessage at 0x10cc6c898>)"
      ]
     },
     "execution_count": 6,
     "metadata": {},
     "output_type": "execute_result"
    }
   ],
   "source": [
    "#import Klee painting\n",
    "url = 'https://img.myswitzerland.com/671846/407'  \n",
    "urllib.request.urlretrieve(url, where_to_save+'Klee.jpg')"
   ]
  },
  {
   "cell_type": "code",
   "execution_count": null,
   "metadata": {},
   "outputs": [],
   "source": [
    "#import zebrafish embry\n",
    "os.makedirs(where_to_save+'30567')\n",
    "url = 'https://cildata.crbs.ucsd.edu/media/images/30567/30567.tif'  \n",
    "urllib.request.urlretrieve(url, where_to_save+'30567/30567.tif')\n"
   ]
  },
  {
   "cell_type": "code",
   "execution_count": null,
   "metadata": {},
   "outputs": [],
   "source": [
    "#import scifio wtembryo\n",
    "os.makedirs(where_to_save+'2chZT')\n",
    "url = 'https://samples.scif.io/2chZT.zip'\n",
    "urllib.request.urlretrieve(url, where_to_save+'2chZT.zip')\n",
    "#unzip\n",
    "with zipfile.ZipFile(where_to_save+'2chZT.zip', 'r') as zip_ref:\n",
    "    zip_ref.extractall(where_to_save+'2chZT')\n",
    "os.remove(where_to_save+'2chZT.zip')"
   ]
  },
  {
   "cell_type": "code",
   "execution_count": null,
   "metadata": {},
   "outputs": [],
   "source": [
    "#import landsat images\n",
    "os.makedirs(where_to_save+'geography')\n",
    "url = 'https://ndownloader.figshare.com/files/7677208'\n",
    "urllib.request.urlretrieve(url, where_to_save+'geography.zip')\n",
    "#unzip\n",
    "with zipfile.ZipFile(where_to_save+'geography.zip', 'r') as zip_ref:\n",
    "    zip_ref.extractall(where_to_save+'geography')\n",
    "os.remove(where_to_save+'geography.zip')"
   ]
  },
  {
   "cell_type": "code",
   "execution_count": 12,
   "metadata": {},
   "outputs": [],
   "source": [
    "#import BBBC007\n",
    "url = 'https://data.broadinstitute.org/bbbc/BBBC007/BBBC007_v1_images.zip'\n",
    "urllib.request.urlretrieve(url, where_to_save+'BBBC007_v1_images.zip')\n",
    "#unzip\n",
    "with zipfile.ZipFile(where_to_save+'BBBC007_v1_images.zip', 'r') as zip_ref:\n",
    "    zip_ref.extractall(where_to_save)\n",
    "os.remove(where_to_save+'BBBC007_v1_images.zip')"
   ]
  },
  {
   "cell_type": "code",
   "execution_count": null,
   "metadata": {},
   "outputs": [],
   "source": [
    "#import BBBC032\n",
    "os.makedirs(where_to_save+'BBBC032_v1_dataset')\n",
    "url = 'https://data.broadinstitute.org/bbbc/BBBC032/BBBC032_v1_dataset.zip'\n",
    "urllib.request.urlretrieve(url, where_to_save+'BBBC032_v1_dataset.zip')\n",
    "#unzip\n",
    "with zipfile.ZipFile(where_to_save+'BBBC032_v1_dataset.zip', 'r') as zip_ref:\n",
    "    zip_ref.extractall(where_to_save+'BBBC032_v1_dataset')\n",
    "os.remove(where_to_save+'BBBC032_v1_dataset.zip')"
   ]
  },
  {
   "cell_type": "code",
   "execution_count": 13,
   "metadata": {},
   "outputs": [],
   "source": [
    "#import BBBC034\n",
    "os.makedirs(where_to_save+'BBBC034_v1_dataset')\n",
    "url = 'https://data.broadinstitute.org/bbbc/BBBC034/BBBC034_v1_dataset.zip'\n",
    "urllib.request.urlretrieve(url, where_to_save+'BBBC034_v1_dataset.zip')\n",
    "#unzip\n",
    "with zipfile.ZipFile(where_to_save+'BBBC034_v1_dataset.zip', 'r') as zip_ref:\n",
    "    zip_ref.extractall(where_to_save+'BBBC034_v1_dataset')\n",
    "os.remove(where_to_save+'BBBC034_v1_dataset.zip')"
   ]
  },
  {
   "cell_type": "code",
   "execution_count": null,
   "metadata": {},
   "outputs": [],
   "source": [
    "#import channels\n",
    "os.makedirs(where_to_save+'channels')\n",
    "url = 'https://drive.google.com/uc?id=1kNzXN_FkRflU4uNOpNfmpK8hUcJ1Dz6R'\n",
    "urllib.request.urlretrieve(url, where_to_save+'channels/channels1.tif')\n",
    "url = 'https://drive.google.com/uc?id=1OMBGdO3t_RvCIcmTLPX6zBfRiWt5KP3Z'\n",
    "urllib.request.urlretrieve(url, where_to_save+'channels/channels2.tif')"
   ]
  },
  {
   "cell_type": "code",
   "execution_count": 8,
   "metadata": {},
   "outputs": [],
   "source": [
    "#create a share folder and move data there"
   ]
  },
  {
   "cell_type": "code",
   "execution_count": null,
   "metadata": {},
   "outputs": [],
   "source": [
    "!sudo mkdir -p /srv/data/"
   ]
  },
  {
   "cell_type": "code",
   "execution_count": null,
   "metadata": {},
   "outputs": [],
   "source": [
    "!sudo mv '../../Data' '/srv/data/'"
   ]
  },
  {
   "cell_type": "code",
   "execution_count": null,
   "metadata": {},
   "outputs": [],
   "source": [
    "!sudo ln -s /srv/data/Data /etc/skel/Data"
   ]
  }
 ],
 "metadata": {
  "kernelspec": {
   "display_name": "Python 3",
   "language": "python",
   "name": "python3"
  },
  "language_info": {
   "codemirror_mode": {
    "name": "ipython",
    "version": 3
   },
   "file_extension": ".py",
   "mimetype": "text/x-python",
   "name": "python",
   "nbconvert_exporter": "python",
   "pygments_lexer": "ipython3",
   "version": "3.6.7"
  },
  "toc": {
   "base_numbering": 1,
   "nav_menu": {},
   "number_sections": true,
   "sideBar": true,
   "skip_h1_title": false,
   "title_cell": "Table of Contents",
   "title_sidebar": "Contents",
   "toc_cell": false,
   "toc_position": {},
   "toc_section_display": true,
   "toc_window_display": false
  }
 },
 "nbformat": 4,
 "nbformat_minor": 2
}

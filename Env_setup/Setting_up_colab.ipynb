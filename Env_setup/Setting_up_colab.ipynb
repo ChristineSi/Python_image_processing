{
 "cells": [
  {
   "cell_type": "code",
   "execution_count": 2,
   "metadata": {
    "colab": {
     "base_uri": "https://localhost:8080/",
     "height": 34
    },
    "colab_type": "code",
    "executionInfo": {
     "elapsed": 559,
     "status": "ok",
     "timestamp": 1546968578426,
     "user": {
      "displayName": "Guillaume Witz",
      "photoUrl": "",
      "userId": "16411890613256560277"
     },
     "user_tz": -60
    },
    "id": "8y9R_jfKU8SQ",
    "outputId": "39eeac38-ce7a-4f20-c845-e88f1c635480"
   },
   "outputs": [
    {
     "name": "stdout",
     "output_type": "stream",
     "text": [
      "Drive already mounted at /content/gdrive; to attempt to forcibly remount, call drive.mount(\"/content/gdrive\", force_remount=True).\n"
     ]
    }
   ],
   "source": [
    "from google.colab import drive\n",
    "drive.mount('/content/gdrive')"
   ]
  },
  {
   "cell_type": "code",
   "execution_count": 22,
   "metadata": {
    "colab": {
     "base_uri": "https://localhost:8080/",
     "height": 153
    },
    "colab_type": "code",
    "executionInfo": {
     "elapsed": 5741,
     "status": "ok",
     "timestamp": 1546967665639,
     "user": {
      "displayName": "Guillaume Witz",
      "photoUrl": "",
      "userId": "16411890613256560277"
     },
     "user_tz": -60
    },
    "id": "VNLwAgrzcZrS",
    "outputId": "86085441-b10b-498e-d1a8-9f55ba247f34"
   },
   "outputs": [
    {
     "name": "stdout",
     "output_type": "stream",
     "text": [
      "Requirement already satisfied: gdown in /usr/local/lib/python3.6/dist-packages (3.6.4)\n",
      "Requirement already satisfied: requests in /usr/local/lib/python3.6/dist-packages (from gdown) (2.18.4)\n",
      "Requirement already satisfied: six in /usr/local/lib/python3.6/dist-packages (from gdown) (1.11.0)\n",
      "Requirement already satisfied: tqdm in /usr/local/lib/python3.6/dist-packages (from gdown) (4.28.1)\n",
      "Requirement already satisfied: certifi>=2017.4.17 in /usr/local/lib/python3.6/dist-packages (from requests->gdown) (2018.11.29)\n",
      "Requirement already satisfied: chardet<3.1.0,>=3.0.2 in /usr/local/lib/python3.6/dist-packages (from requests->gdown) (3.0.4)\n",
      "Requirement already satisfied: idna<2.7,>=2.5 in /usr/local/lib/python3.6/dist-packages (from requests->gdown) (2.6)\n",
      "Requirement already satisfied: urllib3<1.23,>=1.21.1 in /usr/local/lib/python3.6/dist-packages (from requests->gdown) (1.22)\n"
     ]
    }
   ],
   "source": [
    "!pip install gdown"
   ]
  },
  {
   "cell_type": "code",
   "execution_count": null,
   "metadata": {
    "colab": {},
    "colab_type": "code",
    "id": "UIxW6HDBU8yy"
   },
   "outputs": [],
   "source": [
    "import gdown"
   ]
  },
  {
   "cell_type": "code",
   "execution_count": 31,
   "metadata": {
    "colab": {
     "base_uri": "https://localhost:8080/",
     "height": 102
    },
    "colab_type": "code",
    "executionInfo": {
     "elapsed": 13492,
     "status": "ok",
     "timestamp": 1546968145472,
     "user": {
      "displayName": "Guillaume Witz",
      "photoUrl": "",
      "userId": "16411890613256560277"
     },
     "user_tz": -60
    },
    "id": "1mkJPG-AdX8d",
    "outputId": "8a003aa7-604e-4760-e332-e4bf536da19d"
   },
   "outputs": [
    {
     "name": "stderr",
     "output_type": "stream",
     "text": [
      "Downloading...\n",
      "From: https://drive.google.com/uc?id=13UafeUl0hSmGO4JptzI-9F-PA39QJlX7\n",
      "To: /content/gdrive/My Drive/Data.zip\n",
      "699MB [00:06, 113MB/s]\n"
     ]
    },
    {
     "data": {
      "text/plain": [
       "'/content/gdrive/My Drive/Data.zip'"
      ]
     },
     "execution_count": 31,
     "metadata": {
      "tags": []
     },
     "output_type": "execute_result"
    }
   ],
   "source": [
    "gdown.download('https://drive.google.com/uc?id=13UafeUl0hSmGO4JptzI-9F-PA39QJlX7', '/content/gdrive/My Drive/Data.zip', quiet=False)"
   ]
  },
  {
   "cell_type": "code",
   "execution_count": 32,
   "metadata": {
    "colab": {
     "base_uri": "https://localhost:8080/",
     "height": 1190
    },
    "colab_type": "code",
    "executionInfo": {
     "elapsed": 32142,
     "status": "ok",
     "timestamp": 1546968200005,
     "user": {
      "displayName": "Guillaume Witz",
      "photoUrl": "",
      "userId": "16411890613256560277"
     },
     "user_tz": -60
    },
    "id": "NHhPzS8jVFbX",
    "outputId": "26d0388a-8099-47ff-e6b6-ff8e9fcc7e79"
   },
   "outputs": [
    {
     "name": "stdout",
     "output_type": "stream",
     "text": [
      "Archive:  /content/gdrive/My Drive/Data.zip\n",
      "   creating: Data/\n",
      "  inflating: Data/Klee.jpg           \n",
      "   creating: __MACOSX/\n",
      "   creating: __MACOSX/Data/\n",
      "  inflating: __MACOSX/Data/._Klee.jpg  \n",
      "   creating: Data/BBBC034_v1_dataset/\n",
      "  inflating: Data/BBBC034_v1_dataset/edge_C=3_EGFP.tif  \n",
      "   creating: __MACOSX/Data/BBBC034_v1_dataset/\n",
      "  inflating: __MACOSX/Data/BBBC034_v1_dataset/._edge_C=3_EGFP.tif  \n",
      " extracting: Data/BBBC034_v1_dataset/Icon  \n",
      "  inflating: __MACOSX/Data/BBBC034_v1_dataset/._Icon  \n",
      "  inflating: Data/BBBC034_v1_dataset/AICS-12_134_C=3.tif  \n",
      "  inflating: __MACOSX/Data/BBBC034_v1_dataset/._AICS-12_134_C=3.tif  \n",
      "  inflating: Data/BBBC034_v1_dataset/colony_center_C=3_EGFP.tif  \n",
      "  inflating: __MACOSX/Data/BBBC034_v1_dataset/._colony_center_C=3_EGFP.tif  \n",
      "  inflating: Data/BBBC034_v1_dataset/edge_C=1_DeepRed.tif  \n",
      "  inflating: __MACOSX/Data/BBBC034_v1_dataset/._edge_C=1_DeepRed.tif  \n",
      "  inflating: Data/BBBC034_v1_dataset/colony_center_C=5_Hoechst.tif  \n",
      "  inflating: __MACOSX/Data/BBBC034_v1_dataset/._colony_center_C=5_Hoechst.tif  \n",
      "  inflating: Data/BBBC034_v1_dataset/AICS_12_134_C=2.tif  \n",
      "  inflating: __MACOSX/Data/BBBC034_v1_dataset/._AICS_12_134_C=2.tif  \n",
      "  inflating: Data/BBBC034_v1_dataset/AICS_12_134_C=1.tif  \n",
      "  inflating: __MACOSX/Data/BBBC034_v1_dataset/._AICS_12_134_C=1.tif  \n",
      "  inflating: Data/BBBC034_v1_dataset/AICS_12_134_C=0.tif  \n",
      "  inflating: __MACOSX/Data/BBBC034_v1_dataset/._AICS_12_134_C=0.tif  \n",
      "  inflating: Data/BBBC034_v1_dataset/edge_C=5_Hoechst.tif  \n",
      "  inflating: __MACOSX/Data/BBBC034_v1_dataset/._edge_C=5_Hoechst.tif  \n",
      "  inflating: Data/BBBC034_v1_dataset/colony_center_C=1_DeepRed.tif  \n",
      "  inflating: __MACOSX/Data/BBBC034_v1_dataset/._colony_center_C=1_DeepRed.tif  \n",
      "  inflating: __MACOSX/Data/._BBBC034_v1_dataset  \n",
      "  inflating: Data/.DS_Store          \n",
      "  inflating: __MACOSX/Data/._.DS_Store  \n",
      " extracting: Data/Icon               \n",
      "  inflating: __MACOSX/Data/._Icon    \n",
      "   creating: Data/30567/\n",
      " extracting: Data/30567/Icon         \n",
      "   creating: __MACOSX/Data/30567/\n",
      "  inflating: __MACOSX/Data/30567/._Icon  \n",
      "  inflating: Data/30567/30567_orig.tiff  \n",
      "  inflating: __MACOSX/Data/30567/._30567_orig.tiff  \n",
      "  inflating: __MACOSX/Data/._30567   \n",
      "   creating: Data/A9/\n",
      "  inflating: Data/A9/A9 p10d.tif     \n",
      "   creating: __MACOSX/Data/A9/\n",
      "  inflating: __MACOSX/Data/A9/._A9 p10d.tif  \n",
      " extracting: Data/A9/Icon            \n",
      "  inflating: __MACOSX/Data/A9/._Icon  \n",
      "  inflating: Data/A9/A9 p10f.tif     \n",
      "  inflating: __MACOSX/Data/A9/._A9 p10f.tif  \n",
      "  inflating: Data/A9/A9 p7d.tif      \n",
      "  inflating: __MACOSX/Data/A9/._A9 p7d.tif  \n",
      "  inflating: Data/A9/A9 p7f.tif      \n",
      "  inflating: __MACOSX/Data/A9/._A9 p7f.tif  \n",
      "  inflating: Data/A9/A9 p9f.tif      \n",
      "  inflating: __MACOSX/Data/A9/._A9 p9f.tif  \n",
      "  inflating: Data/A9/A9 p5d.tif      \n",
      "  inflating: __MACOSX/Data/A9/._A9 p5d.tif  \n",
      "  inflating: Data/A9/A9 p5f.tif      \n",
      "  inflating: __MACOSX/Data/A9/._A9 p5f.tif  \n",
      "  inflating: Data/A9/A9 p9d.tif      \n",
      "  inflating: __MACOSX/Data/A9/._A9 p9d.tif  \n",
      "  inflating: __MACOSX/Data/._A9      \n",
      "   creating: Data/.ipynb_checkpoints/\n",
      " extracting: Data/.ipynb_checkpoints/Icon  \n",
      "   creating: __MACOSX/Data/.ipynb_checkpoints/\n",
      "  inflating: __MACOSX/Data/.ipynb_checkpoints/._Icon  \n",
      "  inflating: __MACOSX/Data/._.ipynb_checkpoints  \n",
      "  inflating: __MACOSX/._Data         \n"
     ]
    }
   ],
   "source": [
    "!unzip '/content/gdrive/My Drive/Data.zip'"
   ]
  },
  {
   "cell_type": "code",
   "execution_count": 9,
   "metadata": {
    "colab": {
     "base_uri": "https://localhost:8080/",
     "height": 119
    },
    "colab_type": "code",
    "executionInfo": {
     "elapsed": 3323,
     "status": "ok",
     "timestamp": 1546969081871,
     "user": {
      "displayName": "Guillaume Witz",
      "photoUrl": "",
      "userId": "16411890613256560277"
     },
     "user_tz": -60
    },
    "id": "eJQrYJcnVQuZ",
    "outputId": "e04d1ae3-fd61-4ba7-ea3c-4e0d992bc4c1"
   },
   "outputs": [
    {
     "name": "stdout",
     "output_type": "stream",
     "text": [
      "Cloning into '/content/gdrive/My Drive/Python_image_processing'...\n",
      "remote: Enumerating objects: 16, done.\u001b[K\n",
      "remote: Counting objects: 100% (16/16), done.\u001b[K\n",
      "remote: Compressing objects: 100% (15/15), done.\u001b[K\n",
      "remote: Total 16 (delta 0), reused 13 (delta 0), pack-reused 0\u001b[K\n",
      "Unpacking objects: 100% (16/16), done.\n"
     ]
    }
   ],
   "source": [
    "!git clone https://github.com/guiwitz/Python_image_processing.git '/content/gdrive/My Drive/Python_image_processing'"
   ]
  }
 ],
 "metadata": {
  "colab": {
   "name": "Setting_up_colab.ipynb",
   "provenance": [],
   "version": "0.3.2"
  },
  "kernelspec": {
   "display_name": "Python 3",
   "language": "python",
   "name": "python3"
  },
  "language_info": {
   "codemirror_mode": {
    "name": "ipython",
    "version": 3
   },
   "file_extension": ".py",
   "mimetype": "text/x-python",
   "name": "python",
   "nbconvert_exporter": "python",
   "pygments_lexer": "ipython3",
   "version": "3.6.7"
  }
 },
 "nbformat": 4,
 "nbformat_minor": 2
}

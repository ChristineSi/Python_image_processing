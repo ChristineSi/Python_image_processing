{
 "cells": [
  {
   "cell_type": "markdown",
   "metadata": {},
   "source": [
    "# Image processing with Python\n",
    "#### **Guillaume Witz**, Science IT Support, Bern University"
   ]
  },
  {
   "cell_type": "markdown",
   "metadata": {},
   "source": [
    "## Table of Contents\n",
    "\n",
    "### [1. Introduction](1-Introduction.ipynb)\n",
    "\n",
    "### [2. Numpy refresh with images](2-Numpy_images.ipynb)\n",
    "\n",
    "### [3. Importing images](3-Image_import.ipynb)\n",
    "\n",
    "### [4. Basics: scaling, thresholding, filtering](4-Basics.ipynb)\n",
    "\n",
    "### [4b. Basics with non-biology data](4b-Other_image_types.ipynb)\n",
    "\n",
    "### [5. Binary operations](5-Binary_operations.ipynb)\n",
    "\n",
    "### [6. Wrapping code into functions](6-Functions.ipynb)\n",
    "\n",
    "### [7. Segmentation: active contours](7-Active_contours.ipynb)\n",
    "\n",
    "### [8. Segmentation: pattern matching](8-Pattern_matching.ipynb)\n",
    "\n",
    "### [9. Segmentation: Watershed algorithm](9-Watershed.ipynb)\n",
    "\n",
    "### [10. Operations in 3D](10-3D_case.ipynb)\n",
    "\n",
    "### [11. A complete pipeline](11-Complete_analysis.ipynb)\n",
    "\n",
    "### [12. Image registration](12-Registration.ipynb)\n",
    "\n",
    "### [13. Machine learning: Pixel classification](13-Pixel_classification.ipynb)\n",
    "\n",
    "### [14.Machine learning: segmentation with deep learning](14-DeepLearning.ipynb)\n",
    "\n"
   ]
  },
  {
   "cell_type": "code",
   "execution_count": null,
   "metadata": {},
   "outputs": [],
   "source": []
  }
 ],
 "metadata": {
  "anaconda-cloud": {},
  "kernelspec": {
   "display_name": "Python 3",
   "language": "python",
   "name": "python3"
  },
  "language_info": {
   "codemirror_mode": {
    "name": "ipython",
    "version": 3
   },
   "file_extension": ".py",
   "mimetype": "text/x-python",
   "name": "python",
   "nbconvert_exporter": "python",
   "pygments_lexer": "ipython3",
   "version": "3.6.7"
  }
 },
 "nbformat": 4,
 "nbformat_minor": 2
}
